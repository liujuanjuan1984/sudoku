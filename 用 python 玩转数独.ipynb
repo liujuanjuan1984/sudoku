{
 "cells": [
  {
   "cell_type": "markdown",
   "metadata": {},
   "source": [
    "# 这是什么？我想做什么？\n",
    "\n",
    "我想试着用 `python` + `jupyter notebook` 带大家玩转 `数独`。它可能具备以下能力：\n",
    "\n",
    "- 如果玩数独时找不到答案，这里能演算得出答案。\n",
    "\n",
    "- 支持各种各样的数独。\n",
    "\n",
    "- 能生成新的数独，有做不完的题目。\n",
    "\n",
    "- 如果有机会发布在 [xue.cn](https://xue.cn/) ，将让普通人直接在网页玩数独。\n",
    "\n",
    "游戏是人的天性。数独游戏对小孩、老人和普通成年人，是健脑、宁神的游戏。\n"
   ]
  },
  {
   "cell_type": "markdown",
   "metadata": {},
   "source": [
    "# 如何实现：在线玩数独？\n",
    "\n",
    "想要实现在线玩数据，初步拆解将有以下几点：\n",
    "- 题库：首个版本是 excel 表格配置的题库，未来可升级为自动生成数独题目。\n",
    "- 选择题目：和玩家交互，让玩家选择数独类型和难度。\n",
    "- 题面展示：根据玩家选择，展示一个题目的初始棋盘。\n",
    "- 答题：玩家尝试答案，最终提交答案。\n",
    "- 答题判断：判断玩家的答案是否正确；以及后续交互处理。\n"
   ]
  },
  {
   "cell_type": "markdown",
   "metadata": {},
   "source": [
    "玩家当然无需读到这个文档，他们将能直接玩游戏。而这个笔记，则是和诸位正在学 python 的伙伴们切磋用。你可以看到，原来 python 能做出来这些事情，以及如何做的。整个实现过程，我并不会刻意炫技，也没有什么高超的技巧可炫。但你会发现，最基础的能力，一旦结合具体的需求予以实现，还是很amazing的。"
   ]
  },
  {
   "cell_type": "markdown",
   "metadata": {},
   "source": [
    "## 一、实现：题库\n",
    "\n",
    "### 表格的设计：\n",
    "\n",
    "这个版本，我采用 `excel` 表格实现题库，它仅有简单的 3 列，分别是：\n",
    "- 数独类型 `s_type`，\n",
    "- 题目初始盘面取值 `s_default`，\n",
    "- 题目难度 `s_level`。\n",
    "\n",
    "表格字段命名为什么不直接叫`type`、`default`和`level`呢？主要是为了避免与编程语言的关键字或保留字冲突。\n",
    "\n",
    "### 表格的数据：\n",
    "\n",
    "先直接搜索几个现成的数独题，并把数据手动填入表格中。现在的数据仅为了支持功能完成，所以少量几个就足够了。\n",
    "\n",
    "### 表格的读取：\n",
    "\n",
    "用`python`中数据最得心应手的 `pandas`库。"
   ]
  },
  {
   "cell_type": "code",
   "execution_count": 16,
   "metadata": {},
   "outputs": [
    {
     "data": {
      "text/html": [
       "<div>\n",
       "<style scoped>\n",
       "    .dataframe tbody tr th:only-of-type {\n",
       "        vertical-align: middle;\n",
       "    }\n",
       "\n",
       "    .dataframe tbody tr th {\n",
       "        vertical-align: top;\n",
       "    }\n",
       "\n",
       "    .dataframe thead th {\n",
       "        text-align: right;\n",
       "    }\n",
       "</style>\n",
       "<table border=\"1\" class=\"dataframe\">\n",
       "  <thead>\n",
       "    <tr style=\"text-align: right;\">\n",
       "      <th></th>\n",
       "      <th>s_type</th>\n",
       "      <th>s_default</th>\n",
       "      <th>s_level</th>\n",
       "    </tr>\n",
       "  </thead>\n",
       "  <tbody>\n",
       "    <tr>\n",
       "      <th>0</th>\n",
       "      <td>99</td>\n",
       "      <td>[540160700,600000345,090043100,700000090,00107...</td>\n",
       "      <td>1</td>\n",
       "    </tr>\n",
       "  </tbody>\n",
       "</table>\n",
       "</div>"
      ],
      "text/plain": [
       "   s_type                                          s_default  s_level\n",
       "0      99  [540160700,600000345,090043100,700000090,00107...        1"
      ]
     },
     "execution_count": 16,
     "metadata": {},
     "output_type": "execute_result"
    }
   ],
   "source": [
    "import pandas as pd\n",
    "\n",
    "pool_file = 'pool.xlsx' \n",
    "pool_df = pd.read_excel(pool_file)\n",
    "pool_df"
   ]
  },
  {
   "cell_type": "code",
   "execution_count": 17,
   "metadata": {},
   "outputs": [
    {
     "name": "stdout",
     "output_type": "stream",
     "text": [
      "<class 'pandas.core.frame.DataFrame'>\n",
      "RangeIndex: 1 entries, 0 to 0\n",
      "Data columns (total 3 columns):\n",
      "s_type       1 non-null int64\n",
      "s_default    1 non-null object\n",
      "s_level      1 non-null int64\n",
      "dtypes: int64(2), object(1)\n",
      "memory usage: 152.0+ bytes\n"
     ]
    }
   ],
   "source": [
    "pool_df.info()"
   ]
  },
  {
   "cell_type": "markdown",
   "metadata": {},
   "source": [
    "每列的数据类型是什么，非常重要。需要通过上述方式检查确认。高阶的方式可以用代码去检测，新手可直接肉眼查看，未来再升级代码。\n",
    "\n",
    "## 二、实现：玩家选择题目\n",
    "\n",
    "依然选择对新手最友好的`input()`，来和玩家交互。共有2次交互：\n",
    "\n",
    "### 玩家选择是否玩：\n"
   ]
  },
  {
   "cell_type": "code",
   "execution_count": 1,
   "metadata": {},
   "outputs": [
    {
     "name": "stdout",
     "output_type": "stream",
     "text": [
      "2019-10-25 21:59:03.289891\n",
      "Echo：嗨，玩数独吗？\n",
      "\n",
      "Echo：玩，输入数字 1\n",
      "Echo：不玩，输入数字 0\n",
      "\n",
      "\n"
     ]
    },
    {
     "name": "stdin",
     "output_type": "stream",
     "text": [
      "你： 1\n"
     ]
    }
   ],
   "source": [
    "import datetime\n",
    "import time\n",
    "start_time = datetime.datetime.now()\n",
    "print(datetime.datetime.now())\n",
    "print('Echo：嗨，玩数独吗？')\n",
    "print()\n",
    "print('Echo：玩，输入数字 1')\n",
    "print('Echo：不玩，输入数字 0')\n",
    "print()\n",
    "is_play = input('你：输入')"
   ]
  },
  {
   "cell_type": "code",
   "execution_count": 5,
   "metadata": {},
   "outputs": [
    {
     "name": "stdout",
     "output_type": "stream",
     "text": [
      "Echo：你选择了玩。\n",
      "\n",
      "Echo：请再用一秒钟选择数独类型和难度，然后立即玩起来~\n",
      "\n"
     ]
    }
   ],
   "source": [
    "def start_a_game():\n",
    "    print('Echo：你选择了玩。')\n",
    "    print()\n",
    "    print('Echo：请再用一秒钟选择数独类型和难度，然后立即玩起来~')\n",
    "    print()\n",
    "    # todo:调用数独类型和难度选择。\n",
    "\n",
    "def stop_game():\n",
    "    print('Echo：你选择了不玩。')\n",
    "    print()\n",
    "    print('Echo：祝您生活愉快，再见！')\n",
    "    print()\n",
    "\n",
    "if is_play == '1':\n",
    "    start_a_game()\n",
    "elif is_play == '0':\n",
    "    stop_game()\n",
    "else:\n",
    "    print('Echo：祝您生活愉快，再见。')\n",
    "    print()\n",
    "    stop_play()"
   ]
  },
  {
   "cell_type": "markdown",
   "metadata": {},
   "source": [
    "请留意，上面的函数功能并没有完全完成，我们只是先占位，并对缺失的处理通过注释标记了。\n",
    "\n",
    "### 玩家选择数独类型和难度：\n",
    "\n",
    "数独类型和难度的取值，要和题库配置相一致。无论是自己配置表格，还是写和玩家交互的代码时，注意处理好这种一致。\n",
    "\n",
    "一种方式是，直接从题库中读取类型取值和难度取值，并供玩家选择。这样能保证总是能选到题目。\n",
    "\n",
    "另一种方式是，一次性定义所有难度，但需要保证题库中有此类题目。我们先用这种方式简单实现。\n",
    "\n",
    "#### 定义数独难度，并让玩家选择"
   ]
  },
  {
   "cell_type": "code",
   "execution_count": 12,
   "metadata": {},
   "outputs": [
    {
     "name": "stdout",
     "output_type": "stream",
     "text": [
      "Echo：请先选择数独难度：\n",
      "\n",
      "Echo：选择 新手 输入 0\n",
      "\n",
      "Echo：选择 简单 输入 1\n",
      "\n",
      "Echo：选择 基础 输入 2\n",
      "\n",
      "Echo：选择 进阶 输入 3\n",
      "\n",
      "Echo：选择 高手 输入 4\n",
      "\n"
     ]
    },
    {
     "name": "stdin",
     "output_type": "stream",
     "text": [
      "你：输入 4\n"
     ]
    },
    {
     "name": "stdout",
     "output_type": "stream",
     "text": [
      "\n"
     ]
    }
   ],
   "source": [
    "import re\n",
    "\n",
    "level_list = ['新手','简单','基础','进阶','高手']\n",
    "\n",
    "print('Echo：请先选择数独难度：')\n",
    "print()\n",
    "for i in range(len(level_list)):\n",
    "    print('Echo：选择', level_list[i],'输入',i)\n",
    "    print()\n",
    "\n",
    "choose_level = input('你：输入')\n",
    "print()"
   ]
  },
  {
   "cell_type": "markdown",
   "metadata": {},
   "source": [
    "#### 定义数独类型，并让玩家选择"
   ]
  },
  {
   "cell_type": "code",
   "execution_count": 13,
   "metadata": {},
   "outputs": [
    {
     "name": "stdout",
     "output_type": "stream",
     "text": [
      "Echo：请选择数独类型：\n",
      "\n",
      "Echo：选择 99数独 输入 99\n",
      "\n",
      "Echo：选择 六角形24 输入 24\n",
      "\n"
     ]
    },
    {
     "name": "stdin",
     "output_type": "stream",
     "text": [
      "你：输入 4\n"
     ]
    },
    {
     "name": "stdout",
     "output_type": "stream",
     "text": [
      "\n"
     ]
    }
   ],
   "source": [
    "type_list = ['99数独','六角形24']\n",
    "\n",
    "print('Echo：请选择数独类型：')\n",
    "print()\n",
    "for i in type_list:\n",
    "    j = re.findall('(\\d+)',i)\n",
    "    if len(j) > 0:\n",
    "        print('Echo：选择', i,'输入',j[0])\n",
    "    else:\n",
    "        print('Echo：选择', i,'输入',0)\n",
    "    print()\n",
    "\n",
    "choose_type = input('你：输入')\n",
    "print()"
   ]
  },
  {
   "cell_type": "markdown",
   "metadata": {},
   "source": [
    "### 根据玩家选择筛选题目\n",
    "\n",
    "依然用`pandas`来处理这种筛选。"
   ]
  },
  {
   "cell_type": "code",
   "execution_count": 18,
   "metadata": {},
   "outputs": [
    {
     "data": {
      "text/html": [
       "<div>\n",
       "<style scoped>\n",
       "    .dataframe tbody tr th:only-of-type {\n",
       "        vertical-align: middle;\n",
       "    }\n",
       "\n",
       "    .dataframe tbody tr th {\n",
       "        vertical-align: top;\n",
       "    }\n",
       "\n",
       "    .dataframe thead th {\n",
       "        text-align: right;\n",
       "    }\n",
       "</style>\n",
       "<table border=\"1\" class=\"dataframe\">\n",
       "  <thead>\n",
       "    <tr style=\"text-align: right;\">\n",
       "      <th></th>\n",
       "      <th>s_type</th>\n",
       "      <th>s_default</th>\n",
       "      <th>s_level</th>\n",
       "    </tr>\n",
       "  </thead>\n",
       "  <tbody>\n",
       "  </tbody>\n",
       "</table>\n",
       "</div>"
      ],
      "text/plain": [
       "Empty DataFrame\n",
       "Columns: [s_type, s_default, s_level]\n",
       "Index: []"
      ]
     },
     "execution_count": 18,
     "metadata": {},
     "output_type": "execute_result"
    }
   ],
   "source": [
    "\n",
    "choose_game = pool_df[(pool_df['s_type'] == int(choose_type)  ) & (pool_df['s_level'] == int(choose_level) ) ]\n",
    "choose_game"
   ]
  },
  {
   "cell_type": "markdown",
   "metadata": {},
   "source": [
    "我们做一个简单的容错：假如根据用户输入找到 0 个题目，我们就随机给玩家题目。"
   ]
  },
  {
   "cell_type": "code",
   "execution_count": 19,
   "metadata": {},
   "outputs": [],
   "source": [
    "if len(choose_game) == 0:\n",
    "    choose_game = pool_df"
   ]
  },
  {
   "cell_type": "markdown",
   "metadata": {},
   "source": [
    "也有可能根据玩家选择筛选出的题目有多个，所以我们还是随机选一个给他，作为当前准备玩的游戏。"
   ]
  },
  {
   "cell_type": "code",
   "execution_count": 22,
   "metadata": {},
   "outputs": [
    {
     "data": {
      "text/plain": [
       "'[540160700,600000345,090043100,700000090,001070500,020000006,002390050,479000002,006082017]'"
      ]
     },
     "execution_count": 22,
     "metadata": {},
     "output_type": "execute_result"
    }
   ],
   "source": [
    "import random\n",
    "\n",
    "i = random.randint(0,len(choose_game)-1)\n",
    "choosed_game = choose_game['s_default'][i]\n",
    "choosed_game"
   ]
  },
  {
   "cell_type": "markdown",
   "metadata": {},
   "source": [
    "我们先实现最常见的 9 × 9 数独棋盘。它的初始盘面在配置题目被我定义为一个列表，每行取值为该列表的一项。我默认按照从左往右、从上往下，依次输入初始盘面值，空位则用0占位代替。"
   ]
  },
  {
   "cell_type": "code",
   "execution_count": 25,
   "metadata": {},
   "outputs": [],
   "source": [
    "def show_99_default():\n",
    "    print('99数独的默认棋盘')\n",
    "\n",
    "if int(choose_type) == 99:\n",
    "    show_99_default()"
   ]
  },
  {
   "cell_type": "markdown",
   "metadata": {},
   "source": [
    "to be continue..."
   ]
  },
  {
   "cell_type": "code",
   "execution_count": null,
   "metadata": {},
   "outputs": [],
   "source": []
  },
  {
   "cell_type": "code",
   "execution_count": null,
   "metadata": {},
   "outputs": [],
   "source": []
  }
 ],
 "metadata": {
  "kernelspec": {
   "display_name": "Python 3",
   "language": "python",
   "name": "python3"
  },
  "language_info": {
   "codemirror_mode": {
    "name": "ipython",
    "version": 3
   },
   "file_extension": ".py",
   "mimetype": "text/x-python",
   "name": "python",
   "nbconvert_exporter": "python",
   "pygments_lexer": "ipython3",
   "version": "3.7.3"
  }
 },
 "nbformat": 4,
 "nbformat_minor": 2
}
